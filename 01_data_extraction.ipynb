{
 "cells": [
  {
   "cell_type": "markdown",
   "id": "ea2efe3b",
   "metadata": {},
   "source": [
    "# Extracción de datos\n",
    "## Autor: Juan Carlos Alonso Valenzuela\n",
    "En este notebook se realiza el proceso completo de extracción de tweets para generar el dataset. Para ello, se utilizará la librería Twython (https://twython.readthedocs.io/en/latest/)"
   ]
  },
  {
   "cell_type": "code",
   "execution_count": 1,
   "id": "c132d3ff",
   "metadata": {},
   "outputs": [],
   "source": [
    "from twython import Twython\n",
    "import pandas as pd"
   ]
  },
  {
   "cell_type": "code",
   "execution_count": 2,
   "id": "a83177ca",
   "metadata": {},
   "outputs": [],
   "source": [
    "APP_KEY = '---'\n",
    "APP_SECRET = '---'\n",
    "\n",
    "twitter = Twython(APP_KEY, APP_SECRET, oauth_version=2)\n",
    "ACCESS_TOKEN = twitter.obtain_access_token()"
   ]
  },
  {
   "cell_type": "code",
   "execution_count": 3,
   "id": "dcee46e5",
   "metadata": {},
   "outputs": [],
   "source": [
    "# Los objetos Twython (instanciados con la API KEY y el ACCESS TOKEN)\n",
    "# permiten realizar llamadas a la API de python\n",
    "twitter = Twython(APP_KEY, access_token=ACCESS_TOKEN)"
   ]
  },
  {
   "cell_type": "markdown",
   "id": "c06b6549",
   "metadata": {},
   "source": [
    "- Referencia API Twitter: https://developer.twitter.com/en/docs/twitter-api/v1/tweets/search/api-reference/get-search-tweets"
   ]
  },
  {
   "cell_type": "code",
   "execution_count": 4,
   "id": "120e50f1",
   "metadata": {},
   "outputs": [],
   "source": [
    "def generate_csv(hashtag, max_counter):\n",
    "    # Set parameter values\n",
    "    query_data = {\n",
    "        'q': hashtag,\n",
    "        'lang': 'es',\n",
    "        'result_type': 'recent',\n",
    "        'count': 100,\n",
    "        'until': '2022-05-01'\n",
    "    }\n",
    "\n",
    "\n",
    "    results = {'username': [], 'tweet_content': [], 'n_favorites': [], 'timestamp': [], 'mentions': [] }\n",
    "    \n",
    "    # Extract data from Twitter\n",
    "    counter = 0\n",
    "    for tweet in twitter.cursor(twitter.search, **query_data):\n",
    "        if counter % 100 == 0:\n",
    "            print(\"Extracting tweet {} for hashtag: {}\".format(counter, hashtag))\n",
    "        counter = counter + 1\n",
    "        results['username'].append(tweet['user']['screen_name'])\n",
    "        results['tweet_content'].append(tweet['text'])\n",
    "        results['n_favorites'].append(tweet['favorite_count'])\n",
    "        results['timestamp'].append(tweet['created_at'])\n",
    "\n",
    "        mentions = []\n",
    "        for mention in tweet['entities']['user_mentions']:\n",
    "            mentions.append(mention['screen_name'])\n",
    "        results['mentions'].append(mentions)\n",
    "\n",
    "        if counter == max_counter:\n",
    "            break\n",
    "    \n",
    "    # Create DataFrame from tweets data\n",
    "    df = pd.DataFrame(results)\n",
    "    \n",
    "    # Save DataFrame as a file\n",
    "    filename = hashtag.replace('#','')\n",
    "    df.to_csv('dataset/{}.csv'.format(filename))"
   ]
  },
  {
   "cell_type": "code",
   "execution_count": 5,
   "id": "21e025be",
   "metadata": {},
   "outputs": [
    {
     "name": "stdout",
     "output_type": "stream",
     "text": [
      "Extracting tweet 0 for hashtag: #RealMadridEspanyol\n",
      "Extracting tweet 0 for hashtag: #CAMPEON35\n",
      "Extracting tweet 0 for hashtag: #RMFans\n",
      "Extracting tweet 0 for hashtag: #RCDE\n",
      "Extracting tweet 0 for hashtag: #planterRCDE\n"
     ]
    }
   ],
   "source": [
    "hashtags = [\n",
    "    # Neutral\n",
    "    \"#RealMadridEspanyol\",\n",
    "    # Madrid\n",
    "    \"#CAMPEON35\",\n",
    "    \"#RMFans\",\n",
    "    # Espanyol\n",
    "    \"#RCDE\",\n",
    "    \"#planterRCDE\"\n",
    "]\n",
    "\n",
    "for hashtag in hashtags:\n",
    "    generate_csv(hashtag, 5)"
   ]
  }
 ],
 "metadata": {
  "kernelspec": {
   "display_name": "Python 3 (ipykernel)",
   "language": "python",
   "name": "python3"
  },
  "language_info": {
   "codemirror_mode": {
    "name": "ipython",
    "version": 3
   },
   "file_extension": ".py",
   "mimetype": "text/x-python",
   "name": "python",
   "nbconvert_exporter": "python",
   "pygments_lexer": "ipython3",
   "version": "3.9.7"
  }
 },
 "nbformat": 4,
 "nbformat_minor": 5
}
