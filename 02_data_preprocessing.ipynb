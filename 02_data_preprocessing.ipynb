{
 "cells": [
  {
   "cell_type": "markdown",
   "id": "fbe20181",
   "metadata": {},
   "source": [
    "# Preprocesado de datos\n",
    "## Autor: Juan Carlos Alonso Valenzuela\n",
    "En este notebook se preprocesarán los datos extraídos de la API de Twitter para expresarlos en un formato que pueda ser leído como un grafo."
   ]
  },
  {
   "cell_type": "code",
   "execution_count": 1,
   "id": "ac1e18cf",
   "metadata": {},
   "outputs": [],
   "source": [
    "import pandas as pd\n",
    "import re\n",
    "from ast import literal_eval"
   ]
  },
  {
   "cell_type": "markdown",
   "id": "d73691b0",
   "metadata": {},
   "source": [
    "# Carga de datos"
   ]
  },
  {
   "cell_type": "markdown",
   "id": "2c1961c4",
   "metadata": {},
   "source": [
    "Comenzamos leyendo los archivos"
   ]
  },
  {
   "cell_type": "code",
   "execution_count": 2,
   "id": "86d4487a",
   "metadata": {},
   "outputs": [],
   "source": [
    "# Neutral\n",
    "realMadridEspanyol = pd.read_csv('dataset/RealMadridEspanyol.csv')\n",
    "# Madrid\n",
    "CAMPEON35 = pd.read_csv('dataset/CAMPEON35.csv')\n",
    "RMFans = pd.read_csv('dataset/RMFans.csv')\n",
    "# Espanyol\n",
    "RCDE = pd.read_csv('dataset/RCDE.csv')\n",
    "planterRCDE = pd.read_csv('dataset/planterRCDE.csv')"
   ]
  },
  {
   "cell_type": "markdown",
   "id": "11b8e182",
   "metadata": {},
   "source": [
    "Unimos todos los DataFrames en una sola variable"
   ]
  },
  {
   "cell_type": "code",
   "execution_count": 3,
   "id": "e381dd32",
   "metadata": {},
   "outputs": [],
   "source": [
    "df = pd.concat([realMadridEspanyol,CAMPEON35,RMFans,RCDE,planterRCDE])\n",
    "# Shuffle data\n",
    "df = df.sample(frac=1.)\n",
    "\n",
    "# Drop Unnamed column\n",
    "df = df.drop(columns='Unnamed: 0')\n",
    "\n",
    "# Reset index\n",
    "df = df.reset_index(drop=True)"
   ]
  },
  {
   "cell_type": "code",
   "execution_count": 4,
   "id": "60e87b22",
   "metadata": {},
   "outputs": [
    {
     "data": {
      "text/html": [
       "<div>\n",
       "<style scoped>\n",
       "    .dataframe tbody tr th:only-of-type {\n",
       "        vertical-align: middle;\n",
       "    }\n",
       "\n",
       "    .dataframe tbody tr th {\n",
       "        vertical-align: top;\n",
       "    }\n",
       "\n",
       "    .dataframe thead th {\n",
       "        text-align: right;\n",
       "    }\n",
       "</style>\n",
       "<table border=\"1\" class=\"dataframe\">\n",
       "  <thead>\n",
       "    <tr style=\"text-align: right;\">\n",
       "      <th></th>\n",
       "      <th>username</th>\n",
       "      <th>tweet_content</th>\n",
       "      <th>n_favorites</th>\n",
       "      <th>timestamp</th>\n",
       "      <th>mentions</th>\n",
       "    </tr>\n",
       "  </thead>\n",
       "  <tbody>\n",
       "    <tr>\n",
       "      <th>0</th>\n",
       "      <td>JorgeAHB19</td>\n",
       "      <td>RT @rnmjtv2: Marcelo le pone la bufanda a la d...</td>\n",
       "      <td>0</td>\n",
       "      <td>Sat Apr 30 23:59:58 +0000 2022</td>\n",
       "      <td>['rnmjtv2']</td>\n",
       "    </tr>\n",
       "    <tr>\n",
       "      <th>1</th>\n",
       "      <td>Davvonx</td>\n",
       "      <td>RT @realmadrid: #RMFans x Cibeles x #CAMPEON35...</td>\n",
       "      <td>0</td>\n",
       "      <td>Sat Apr 30 23:59:52 +0000 2022</td>\n",
       "      <td>['realmadrid']</td>\n",
       "    </tr>\n",
       "    <tr>\n",
       "      <th>2</th>\n",
       "      <td>luisfwbiano</td>\n",
       "      <td>RT @realmadrid: #RMFans x Cibeles x #CAMPEON35...</td>\n",
       "      <td>0</td>\n",
       "      <td>Sat Apr 30 23:59:59 +0000 2022</td>\n",
       "      <td>['realmadrid']</td>\n",
       "    </tr>\n",
       "    <tr>\n",
       "      <th>3</th>\n",
       "      <td>wantan_ver2</td>\n",
       "      <td>RT @realmadrid: #RMFans x Cibeles x #CAMPEON35...</td>\n",
       "      <td>0</td>\n",
       "      <td>Sat Apr 30 23:59:56 +0000 2022</td>\n",
       "      <td>['realmadrid']</td>\n",
       "    </tr>\n",
       "    <tr>\n",
       "      <th>4</th>\n",
       "      <td>sergihio199</td>\n",
       "      <td>RT @RCDEFutbolBase: 20' | 2-1 | Gol de la SD E...</td>\n",
       "      <td>0</td>\n",
       "      <td>Sat Apr 30 16:53:35 +0000 2022</td>\n",
       "      <td>['RCDEFutbolBase']</td>\n",
       "    </tr>\n",
       "  </tbody>\n",
       "</table>\n",
       "</div>"
      ],
      "text/plain": [
       "      username                                      tweet_content  \\\n",
       "0   JorgeAHB19  RT @rnmjtv2: Marcelo le pone la bufanda a la d...   \n",
       "1      Davvonx  RT @realmadrid: #RMFans x Cibeles x #CAMPEON35...   \n",
       "2  luisfwbiano  RT @realmadrid: #RMFans x Cibeles x #CAMPEON35...   \n",
       "3  wantan_ver2  RT @realmadrid: #RMFans x Cibeles x #CAMPEON35...   \n",
       "4  sergihio199  RT @RCDEFutbolBase: 20' | 2-1 | Gol de la SD E...   \n",
       "\n",
       "   n_favorites                       timestamp            mentions  \n",
       "0            0  Sat Apr 30 23:59:58 +0000 2022         ['rnmjtv2']  \n",
       "1            0  Sat Apr 30 23:59:52 +0000 2022      ['realmadrid']  \n",
       "2            0  Sat Apr 30 23:59:59 +0000 2022      ['realmadrid']  \n",
       "3            0  Sat Apr 30 23:59:56 +0000 2022      ['realmadrid']  \n",
       "4            0  Sat Apr 30 16:53:35 +0000 2022  ['RCDEFutbolBase']  "
      ]
     },
     "execution_count": 4,
     "metadata": {},
     "output_type": "execute_result"
    }
   ],
   "source": [
    "df.head()"
   ]
  },
  {
   "cell_type": "markdown",
   "id": "3afd94eb",
   "metadata": {},
   "source": [
    "# Añadir columna \"retweet\"\n",
    "Si el tweet es un retweet, esta columna contendrá el nombre del usuario que publicó el tweet original"
   ]
  },
  {
   "cell_type": "markdown",
   "id": "979592cc",
   "metadata": {},
   "source": [
    "Un tweet es un retweet si comienza con los caracteres \"RT @\" seguidos del nombre el usuario al que se está retweeteando."
   ]
  },
  {
   "cell_type": "code",
   "execution_count": 5,
   "id": "51cd0ad3",
   "metadata": {},
   "outputs": [],
   "source": [
    "tweet_content_values = df['tweet_content'].values.tolist()\n",
    "rt_column = []\n",
    "\n",
    "for tweet in tweet_content_values:\n",
    "    rt_regex = re.compile(r\"^RT\\s@.[^\\s]+(?::)\")\n",
    "    \n",
    "    if rt_regex.match(tweet):\n",
    "        # The tweet is a retweet\n",
    "        retweet_from = tweet.split(\":\")[0][4:]\n",
    "        rt_column.append(retweet_from)\n",
    "    else:\n",
    "        # The tweet is not a retweet\n",
    "        rt_column.append(None)\n",
    "\n",
    "df['retweet'] = rt_column"
   ]
  },
  {
   "cell_type": "code",
   "execution_count": 6,
   "id": "c12c4c72",
   "metadata": {},
   "outputs": [
    {
     "data": {
      "text/html": [
       "<div>\n",
       "<style scoped>\n",
       "    .dataframe tbody tr th:only-of-type {\n",
       "        vertical-align: middle;\n",
       "    }\n",
       "\n",
       "    .dataframe tbody tr th {\n",
       "        vertical-align: top;\n",
       "    }\n",
       "\n",
       "    .dataframe thead th {\n",
       "        text-align: right;\n",
       "    }\n",
       "</style>\n",
       "<table border=\"1\" class=\"dataframe\">\n",
       "  <thead>\n",
       "    <tr style=\"text-align: right;\">\n",
       "      <th></th>\n",
       "      <th>username</th>\n",
       "      <th>tweet_content</th>\n",
       "      <th>n_favorites</th>\n",
       "      <th>timestamp</th>\n",
       "      <th>mentions</th>\n",
       "      <th>retweet</th>\n",
       "    </tr>\n",
       "  </thead>\n",
       "  <tbody>\n",
       "    <tr>\n",
       "      <th>0</th>\n",
       "      <td>JorgeAHB19</td>\n",
       "      <td>RT @rnmjtv2: Marcelo le pone la bufanda a la d...</td>\n",
       "      <td>0</td>\n",
       "      <td>Sat Apr 30 23:59:58 +0000 2022</td>\n",
       "      <td>['rnmjtv2']</td>\n",
       "      <td>rnmjtv2</td>\n",
       "    </tr>\n",
       "    <tr>\n",
       "      <th>1</th>\n",
       "      <td>Davvonx</td>\n",
       "      <td>RT @realmadrid: #RMFans x Cibeles x #CAMPEON35...</td>\n",
       "      <td>0</td>\n",
       "      <td>Sat Apr 30 23:59:52 +0000 2022</td>\n",
       "      <td>['realmadrid']</td>\n",
       "      <td>realmadrid</td>\n",
       "    </tr>\n",
       "    <tr>\n",
       "      <th>2</th>\n",
       "      <td>luisfwbiano</td>\n",
       "      <td>RT @realmadrid: #RMFans x Cibeles x #CAMPEON35...</td>\n",
       "      <td>0</td>\n",
       "      <td>Sat Apr 30 23:59:59 +0000 2022</td>\n",
       "      <td>['realmadrid']</td>\n",
       "      <td>realmadrid</td>\n",
       "    </tr>\n",
       "    <tr>\n",
       "      <th>3</th>\n",
       "      <td>wantan_ver2</td>\n",
       "      <td>RT @realmadrid: #RMFans x Cibeles x #CAMPEON35...</td>\n",
       "      <td>0</td>\n",
       "      <td>Sat Apr 30 23:59:56 +0000 2022</td>\n",
       "      <td>['realmadrid']</td>\n",
       "      <td>realmadrid</td>\n",
       "    </tr>\n",
       "    <tr>\n",
       "      <th>4</th>\n",
       "      <td>sergihio199</td>\n",
       "      <td>RT @RCDEFutbolBase: 20' | 2-1 | Gol de la SD E...</td>\n",
       "      <td>0</td>\n",
       "      <td>Sat Apr 30 16:53:35 +0000 2022</td>\n",
       "      <td>['RCDEFutbolBase']</td>\n",
       "      <td>RCDEFutbolBase</td>\n",
       "    </tr>\n",
       "  </tbody>\n",
       "</table>\n",
       "</div>"
      ],
      "text/plain": [
       "      username                                      tweet_content  \\\n",
       "0   JorgeAHB19  RT @rnmjtv2: Marcelo le pone la bufanda a la d...   \n",
       "1      Davvonx  RT @realmadrid: #RMFans x Cibeles x #CAMPEON35...   \n",
       "2  luisfwbiano  RT @realmadrid: #RMFans x Cibeles x #CAMPEON35...   \n",
       "3  wantan_ver2  RT @realmadrid: #RMFans x Cibeles x #CAMPEON35...   \n",
       "4  sergihio199  RT @RCDEFutbolBase: 20' | 2-1 | Gol de la SD E...   \n",
       "\n",
       "   n_favorites                       timestamp            mentions  \\\n",
       "0            0  Sat Apr 30 23:59:58 +0000 2022         ['rnmjtv2']   \n",
       "1            0  Sat Apr 30 23:59:52 +0000 2022      ['realmadrid']   \n",
       "2            0  Sat Apr 30 23:59:59 +0000 2022      ['realmadrid']   \n",
       "3            0  Sat Apr 30 23:59:56 +0000 2022      ['realmadrid']   \n",
       "4            0  Sat Apr 30 16:53:35 +0000 2022  ['RCDEFutbolBase']   \n",
       "\n",
       "          retweet  \n",
       "0         rnmjtv2  \n",
       "1      realmadrid  \n",
       "2      realmadrid  \n",
       "3      realmadrid  \n",
       "4  RCDEFutbolBase  "
      ]
     },
     "execution_count": 6,
     "metadata": {},
     "output_type": "execute_result"
    }
   ],
   "source": [
    "df.head()"
   ]
  },
  {
   "cell_type": "code",
   "execution_count": 7,
   "id": "da608604",
   "metadata": {},
   "outputs": [],
   "source": [
    "df.to_csv('dataset/all_tweets_with_rt.csv')"
   ]
  },
  {
   "cell_type": "markdown",
   "id": "ca321cda",
   "metadata": {},
   "source": [
    "# Extracción de las aristas del grafo"
   ]
  },
  {
   "cell_type": "code",
   "execution_count": 8,
   "id": "653efe24",
   "metadata": {},
   "outputs": [],
   "source": [
    "df_edges = pd.DataFrame({\"source\": [], \"target\": [], \"weight\": []})"
   ]
  },
  {
   "cell_type": "code",
   "execution_count": 9,
   "id": "628fcaaa",
   "metadata": {},
   "outputs": [],
   "source": [
    "for index, row in df.iterrows():\n",
    "    if row['retweet'] == None:\n",
    "        username = row['username']\n",
    "        mentions = literal_eval(row['mentions'])\n",
    "        if len(mentions)>0:\n",
    "            # Add every mention to df_edges\n",
    "            for mention in mentions:\n",
    "                users = sorted([\n",
    "                    username,\n",
    "                    mention\n",
    "                ])\n",
    "\n",
    "                new_row = {'source': users[0], 'target': users[1], 'weight':1}\n",
    "                df_edges = df_edges.append(new_row, ignore_index=True)\n",
    "    else:\n",
    "        # Sort alphabetically to avoid duplicates\n",
    "        users = sorted([\n",
    "            row['username'],\n",
    "            row['retweet']\n",
    "        ])\n",
    "        # Add to df_edges\n",
    "        new_row = {'source': users[0], 'target': users[1], 'weight': 1}\n",
    "        df_edges = df_edges.append(new_row, ignore_index=True)"
   ]
  },
  {
   "cell_type": "code",
   "execution_count": 10,
   "id": "18accae0",
   "metadata": {},
   "outputs": [],
   "source": [
    "# Sum by group to avoid duplicates\n",
    "df_edges = df_edges.groupby(by=['source', 'target']).sum()"
   ]
  },
  {
   "cell_type": "code",
   "execution_count": 11,
   "id": "46337f76",
   "metadata": {},
   "outputs": [
    {
     "data": {
      "text/html": [
       "<div>\n",
       "<style scoped>\n",
       "    .dataframe tbody tr th:only-of-type {\n",
       "        vertical-align: middle;\n",
       "    }\n",
       "\n",
       "    .dataframe tbody tr th {\n",
       "        vertical-align: top;\n",
       "    }\n",
       "\n",
       "    .dataframe thead th {\n",
       "        text-align: right;\n",
       "    }\n",
       "</style>\n",
       "<table border=\"1\" class=\"dataframe\">\n",
       "  <thead>\n",
       "    <tr style=\"text-align: right;\">\n",
       "      <th></th>\n",
       "      <th></th>\n",
       "      <th>weight</th>\n",
       "    </tr>\n",
       "    <tr>\n",
       "      <th>source</th>\n",
       "      <th>target</th>\n",
       "      <th></th>\n",
       "    </tr>\n",
       "  </thead>\n",
       "  <tbody>\n",
       "    <tr>\n",
       "      <th>AbdallahJR16</th>\n",
       "      <th>realmadrid</th>\n",
       "      <td>1.0</td>\n",
       "    </tr>\n",
       "    <tr>\n",
       "      <th>Davvonx</th>\n",
       "      <th>realmadrid</th>\n",
       "      <td>1.0</td>\n",
       "    </tr>\n",
       "    <tr>\n",
       "      <th>DonTxingurri</th>\n",
       "      <th>OldRcd</th>\n",
       "      <td>1.0</td>\n",
       "    </tr>\n",
       "    <tr>\n",
       "      <th>JorgeAHB19</th>\n",
       "      <th>rnmjtv2</th>\n",
       "      <td>1.0</td>\n",
       "    </tr>\n",
       "    <tr>\n",
       "      <th>Juvenil1991</th>\n",
       "      <th>Tindef91</th>\n",
       "      <td>1.0</td>\n",
       "    </tr>\n",
       "  </tbody>\n",
       "</table>\n",
       "</div>"
      ],
      "text/plain": [
       "                         weight\n",
       "source       target            \n",
       "AbdallahJR16 realmadrid     1.0\n",
       "Davvonx      realmadrid     1.0\n",
       "DonTxingurri OldRcd         1.0\n",
       "JorgeAHB19   rnmjtv2        1.0\n",
       "Juvenil1991  Tindef91       1.0"
      ]
     },
     "execution_count": 11,
     "metadata": {},
     "output_type": "execute_result"
    }
   ],
   "source": [
    "df_edges.head()"
   ]
  },
  {
   "cell_type": "code",
   "execution_count": 12,
   "id": "3e07878c",
   "metadata": {},
   "outputs": [],
   "source": [
    "# Save as csv\n",
    "df_edges.to_csv('dataset/dataset_edges.csv', header = False)"
   ]
  }
 ],
 "metadata": {
  "kernelspec": {
   "display_name": "Python 3 (ipykernel)",
   "language": "python",
   "name": "python3"
  },
  "language_info": {
   "codemirror_mode": {
    "name": "ipython",
    "version": 3
   },
   "file_extension": ".py",
   "mimetype": "text/x-python",
   "name": "python",
   "nbconvert_exporter": "python",
   "pygments_lexer": "ipython3",
   "version": "3.9.7"
  }
 },
 "nbformat": 4,
 "nbformat_minor": 5
}
